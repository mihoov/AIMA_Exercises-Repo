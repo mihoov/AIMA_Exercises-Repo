{
 "cells": [
  {
   "cell_type": "code",
   "execution_count": 61,
   "metadata": {},
   "outputs": [],
   "source": [
    "class Node:\n",
    "    def __init__(self, state, parent, action):\n",
    "        self.state = state\n",
    "        self.parent = parent\n",
    "        self.action = action\n",
    "        \n",
    "    def getState(self):\n",
    "        return self.state\n",
    "    \n",
    "    def getParent(self):\n",
    "        return self.parent\n",
    "\n",
    "class MissCanProb:\n",
    "    def __init__(self, totalMissionaries, totalCannibals, boatPosition):\n",
    "        self.totalMissionaries = totalMissionaries\n",
    "        self.totalCannibals = totalCannibals\n",
    "        self.initBoatIsLeft = False\n",
    "        if boatPosition == 'left':\n",
    "            self.initBoatIsLeft = True\n",
    "        \n",
    "        self.ActionsBoatLeft = [[-1,0], [0,-1], [-1,-1], [-2,0], [-2,0]]\n",
    "        self.ActionsBoatRight = [[1,0], [0,1], [1,1], [2,0], [0,2]]\n",
    "        \n",
    "    def checkValid(self, state):\n",
    "        validNumberMiss = state[0] >= 0 and state[0] <= self.totalMissionaries\n",
    "        validNumberCann = state[1] >= 0 and state[1] <= self.totalCannibals\n",
    "        compareLeft = state[0] >= state[1] or state[0] == 0\n",
    "        compareRight = (self.totalMissionaries - state[0] >= self.totalCannibals - state[1]) or self.totalMissionaries - state[0] == 0\n",
    "        \n",
    "        return  validNumberMiss and validNumberCann and compareLeft and compareRight\n",
    "        \n",
    "    def checkSolved(self, state):\n",
    "        return state[0] == 0 and state[1] == self.totalCannibals\n",
    "    \n",
    "    def getSolution(self, endNode):\n",
    "        currentNode = endNode\n",
    "        solution = [currentNode.getState()]\n",
    "        \n",
    "        while currentNode.getParent():\n",
    "            currentNode = currentNode.getParent()\n",
    "            solution.append(currentNode.getState())\n",
    "            \n",
    "        solution.reverse()\n",
    "        return solution\n",
    "    \n",
    "    def breadthFirstSearch(self):\n",
    "        q = [Node((self.totalMissionaries, 0, self.initBoatIsLeft), None, None)]\n",
    "        previousStates = set()\n",
    "        \n",
    "        while q:\n",
    "            currentNode = q.pop(0)\n",
    "            currentState = currentNode.getState()\n",
    "            \n",
    "            if currentState not in previousStates:\n",
    "                previousStates.add(currentState)\n",
    "                \n",
    "                isValid = self.checkValid(currentState)\n",
    "                isSolved = self.checkSolved(currentState)\n",
    "                \n",
    "                if isValid and isSolved:\n",
    "                    return self.getSolution(currentNode)\n",
    "                \n",
    "                if currentState[2]:\n",
    "                    actions = self.ActionsBoatLeft\n",
    "                else:\n",
    "                    actions = self.ActionsBoatRight\n",
    "\n",
    "                if isValid:    \n",
    "                    for act in actions:\n",
    "                        nextState = (currentState[0]+act[0], currentState[1]+act[1], not currentState[2])\n",
    "                        q.append(Node(nextState, currentNode, act))\n",
    "\n",
    "        return False\n",
    "                    \n",
    "        \n",
    "        \n"
   ]
  },
  {
   "cell_type": "code",
   "execution_count": 72,
   "metadata": {},
   "outputs": [
    {
     "data": {
      "text/plain": [
       "[(3, 0, False),\n",
       " (3, 1, True),\n",
       " (1, 1, False),\n",
       " (2, 2, True),\n",
       " (0, 2, False),\n",
       " (0, 3, True)]"
      ]
     },
     "execution_count": 72,
     "metadata": {},
     "output_type": "execute_result"
    }
   ],
   "source": [
    "problem = MissCanProb(3, 3, 'right')\n",
    "\n",
    "problem.breadthFirstSearch()"
   ]
  },
  {
   "cell_type": "code",
   "execution_count": 26,
   "metadata": {},
   "outputs": [],
   "source": []
  }
 ],
 "metadata": {
  "kernelspec": {
   "display_name": "Python 3",
   "language": "python",
   "name": "python3"
  },
  "language_info": {
   "codemirror_mode": {
    "name": "ipython",
    "version": 3
   },
   "file_extension": ".py",
   "mimetype": "text/x-python",
   "name": "python",
   "nbconvert_exporter": "python",
   "pygments_lexer": "ipython3",
   "version": "3.8.3"
  }
 },
 "nbformat": 4,
 "nbformat_minor": 4
}

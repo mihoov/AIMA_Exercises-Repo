{
 "cells": [
  {
   "cell_type": "code",
   "execution_count": null,
   "metadata": {},
   "outputs": [],
   "source": [
    "class Node:\n",
    "    def __init__(self, state, parent, action, pathCost):\n",
    "        self.state = state\n",
    "        self.parent = parent\n",
    "        self.action = action\n",
    "        self.pathCost = pathCost\n",
    "\n",
    "class MissCanProb:\n",
    "    def __init__(self):\n",
    "        self.Mleft = 3\n",
    "        self.Cleft = 0\n",
    "        self.Mright = 0\n",
    "        self.Cright = 3\n",
    "        self.boatPos = 'right'\n",
    "        prevStates = set()\n",
    "        \n",
    "    def checkValid(self):\n",
    "        leftOK = (self.Mleft >= self.Cleft) || self.Mleft == 0\n",
    "        rightOK = (self.Mright >= self.Cright) || self.Mright == 0\n",
    "        boatOK = (self.Mleft + self.Mright == 3) || ((3-self.Mright-self.Mleft) >= (3-self.Cright-self.Cleft))\n",
    "        \n",
    "        return leftOK and rightOK and boatOK\n",
    "    \n",
    "    def getState(self):\n",
    "        return (self.Mleft, self.Cleft, self.Mright, self.Cright, self.boatPos)\n",
    "    \n",
    "    def putPeopleInBoat(self, M, C):\n",
    "        if self.boatPos = 'left':\n",
    "            self.Mleft -= M\n",
    "            self.Cleft -= C"
   ]
  }
 ],
 "metadata": {
  "kernelspec": {
   "display_name": "Python 3",
   "language": "python",
   "name": "python3"
  },
  "language_info": {
   "codemirror_mode": {
    "name": "ipython",
    "version": 3
   },
   "file_extension": ".py",
   "mimetype": "text/x-python",
   "name": "python",
   "nbconvert_exporter": "python",
   "pygments_lexer": "ipython3",
   "version": "3.8.3"
  }
 },
 "nbformat": 4,
 "nbformat_minor": 4
}
